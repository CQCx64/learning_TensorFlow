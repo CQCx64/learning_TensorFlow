{
 "cells": [
  {
   "cell_type": "code",
   "execution_count": 1,
   "metadata": {},
   "outputs": [],
   "source": [
    "import tensorflow as tf\n",
    "import numpy as np"
   ]
  },
  {
   "cell_type": "code",
   "execution_count": 2,
   "metadata": {},
   "outputs": [
    {
     "name": "stdout",
     "output_type": "stream",
     "text": [
      "WARNING:tensorflow:From E:\\Tool\\anaconda3\\lib\\site-packages\\tensorflow\\python\\framework\\op_def_library.py:263: colocate_with (from tensorflow.python.framework.ops) is deprecated and will be removed in a future version.\n",
      "Instructions for updating:\n",
      "Colocations handled automatically by placer.\n",
      "0 [0.050470877, 0.09908887]\n",
      "20 [0.10090766, 0.19953708]\n",
      "40 [0.100540295, 0.19972453]\n",
      "60 [0.100321606, 0.19983603]\n",
      "80 [0.100191444, 0.19990239]\n",
      "100 [0.10011394, 0.1999419]\n",
      "120 [0.10006783, 0.19996542]\n",
      "140 [0.10004038, 0.19997941]\n",
      "160 [0.10002403, 0.19998775]\n",
      "180 [0.1000143, 0.19999272]\n",
      "200 [0.10000851, 0.19999567]\n"
     ]
    }
   ],
   "source": [
    "#使用numpy生成100个随机点\n",
    "x_data = np.random.rand(100)\n",
    "#直线 y = 0.1x + 0.2\n",
    "y_data = x_data * 0.1 + 0.2\n",
    "\n",
    "#构造一个线性模型\n",
    "#初始化值0.可使变量定义为float\n",
    "b = tf.Variable(0.)\n",
    "k = tf.Variable(0.)\n",
    "y = k * x_data + b\n",
    "\n",
    "#二次代价函数MSE\n",
    "#reduce_mean求平均值\n",
    "loss = tf.reduce_mean(tf.square(y_data - y))\n",
    "#定义一个梯度下降法进行训练的优化器，0.2是学习率\n",
    "optimizer = tf.train.GradientDescentOptimizer(0.2)\n",
    "#定义一个最小化代价函数\n",
    "#使用梯度下降优化器最小化loss\n",
    "train = optimizer.minimize(loss)\n",
    "\n",
    "#变量初始化\n",
    "init = tf.global_variables_initializer()\n",
    "\n",
    "with tf.Session() as sess:\n",
    "    sess.run(init)\n",
    "    for step in range(201):\n",
    "        #每次迭代，最小化loss\n",
    "        sess.run(train)\n",
    "        #k和b会由GD优化器optimizer自动生成改变赋值\n",
    "        if step%20 == 0:\n",
    "            print(step,sess.run([k,b]))"
   ]
  }
 ],
 "metadata": {
  "kernelspec": {
   "display_name": "Python 3",
   "language": "python",
   "name": "python3"
  },
  "language_info": {
   "codemirror_mode": {
    "name": "ipython",
    "version": 3
   },
   "file_extension": ".py",
   "mimetype": "text/x-python",
   "name": "python",
   "nbconvert_exporter": "python",
   "pygments_lexer": "ipython3",
   "version": "3.7.0"
  }
 },
 "nbformat": 4,
 "nbformat_minor": 2
}
